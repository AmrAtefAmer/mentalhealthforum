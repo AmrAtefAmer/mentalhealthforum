{
 "cells": [
  {
   "cell_type": "code",
   "execution_count": 1,
   "id": "5d9de331",
   "metadata": {},
   "outputs": [],
   "source": [
    "import pandas as pd \n",
    "from selenium import webdriver"
   ]
  },
  {
   "cell_type": "code",
   "execution_count": 24,
   "id": "fce27d65",
   "metadata": {
    "scrolled": true
   },
   "outputs": [
    {
     "name": "stderr",
     "output_type": "stream",
     "text": [
      "<ipython-input-24-b50afaa88791>:1: DeprecationWarning: executable_path has been deprecated, please pass in a Service object\n",
      "  driver = webdriver.Chrome(executable_path=r'C:\\Users\\Amr\\Desktop\\chrome driver\\chromedriver')\n"
     ]
    }
   ],
   "source": [
    "driver = webdriver.Chrome(executable_path=r'C:\\Users\\Amr\\Desktop\\chrome driver\\chromedriver')"
   ]
  },
  {
   "cell_type": "code",
   "execution_count": 26,
   "id": "855853bb",
   "metadata": {},
   "outputs": [],
   "source": [
    "url= f'https://www.mentalhealthforum.net/forum/forums/coronavirus-covid-19-mental-health.394/'#page url\n",
    "driver.get(url)"
   ]
  },
  {
   "cell_type": "code",
   "execution_count": 4,
   "id": "dc597925",
   "metadata": {},
   "outputs": [],
   "source": [
    "question = []\n",
    "que_date = []\n",
    "replies = []\n",
    "views = []\n",
    "ans_date = []"
   ]
  },
  {
   "cell_type": "code",
   "execution_count": 5,
   "id": "013a376b",
   "metadata": {},
   "outputs": [],
   "source": [
    "def scrap_data(n_pages):\n",
    "    for i in range(n_pages):\n",
    "        url= f'https://www.mentalhealthforum.net/forum/forums/coronavirus-covid-19-mental-health.394/page-{i}'#page url\n",
    "        driver.get(url)\n",
    "        xpath= '//*[@id=\"top\"]/div[4]/div/div[2]/div[1]/div/div/div[2]/div[2]/div/div/div'#path to divs that we want\n",
    "        it=driver.find_elements_by_xpath(xpath) #all divs we want in each page\n",
    "        for j in range(len(it)):                #for loop on each element\n",
    "            d=it[j].text.split('\\n')\n",
    "            if d[0] == 'Locked' or len(d[0]) == 1: #two if to delete no wanted words\n",
    "                del(d[0])\n",
    "            if  d[0] == 'Sticky' :\n",
    "                del(d[0])\n",
    "            question.append(d[0])                           #question\n",
    "            que_date.append(' '.join(d[1].split(' ')[1:]))  #question_date\n",
    "            replies.append(d[3])                            #replies\n",
    "            views.append(d[5])                              #views\n",
    "            ans_date.append(d[6])                           #answer_date\n",
    "            "
   ]
  },
  {
   "cell_type": "code",
   "execution_count": 6,
   "id": "b0fb3d88",
   "metadata": {
    "scrolled": true
   },
   "outputs": [
    {
     "name": "stderr",
     "output_type": "stream",
     "text": [
      "<ipython-input-5-ba61dbed44c8>:6: DeprecationWarning: find_elements_by_* commands are deprecated. Please use find_elements() instead\n",
      "  it=driver.find_elements_by_xpath(xpath) #all divs we want in each page\n"
     ]
    }
   ],
   "source": [
    "scrap_data(33)"
   ]
  },
  {
   "cell_type": "code",
   "execution_count": 7,
   "id": "95b2ae12",
   "metadata": {},
   "outputs": [],
   "source": [
    "data={'question':question,'que_date':que_date,'replies':replies,'views':views,'ans_date':ans_date}"
   ]
  },
  {
   "cell_type": "code",
   "execution_count": 8,
   "id": "d01238de",
   "metadata": {},
   "outputs": [],
   "source": [
    "df = pd.DataFrame(data)"
   ]
  },
  {
   "cell_type": "code",
   "execution_count": 9,
   "id": "6af67ee8",
   "metadata": {},
   "outputs": [],
   "source": [
    "df.to_csv('scrap_coronavirus.csv')"
   ]
  },
  {
   "cell_type": "code",
   "execution_count": 10,
   "id": "8760faa7",
   "metadata": {},
   "outputs": [
    {
     "data": {
      "text/html": [
       "<div>\n",
       "<style scoped>\n",
       "    .dataframe tbody tr th:only-of-type {\n",
       "        vertical-align: middle;\n",
       "    }\n",
       "\n",
       "    .dataframe tbody tr th {\n",
       "        vertical-align: top;\n",
       "    }\n",
       "\n",
       "    .dataframe thead th {\n",
       "        text-align: right;\n",
       "    }\n",
       "</style>\n",
       "<table border=\"1\" class=\"dataframe\">\n",
       "  <thead>\n",
       "    <tr style=\"text-align: right;\">\n",
       "      <th></th>\n",
       "      <th>Unnamed: 0</th>\n",
       "      <th>question</th>\n",
       "      <th>que_date</th>\n",
       "      <th>replies</th>\n",
       "      <th>views</th>\n",
       "      <th>ans_date</th>\n",
       "    </tr>\n",
       "  </thead>\n",
       "  <tbody>\n",
       "    <tr>\n",
       "      <th>0</th>\n",
       "      <td>0</td>\n",
       "      <td>Myths about covid 19 and how vaccines work</td>\n",
       "      <td>Jul 14, 2021</td>\n",
       "      <td>0</td>\n",
       "      <td>625</td>\n",
       "      <td>Jul 14, 2021</td>\n",
       "    </tr>\n",
       "    <tr>\n",
       "      <th>1</th>\n",
       "      <td>1</td>\n",
       "      <td>Coping with your Mental Health during the Covi...</td>\n",
       "      <td>Apr 9, 2020 2</td>\n",
       "      <td>16</td>\n",
       "      <td>2K</td>\n",
       "      <td>May 16, 2020</td>\n",
       "    </tr>\n",
       "    <tr>\n",
       "      <th>2</th>\n",
       "      <td>2</td>\n",
       "      <td>Useful numbers for domestic violence /abuse.</td>\n",
       "      <td>Apr 13, 2020</td>\n",
       "      <td>0</td>\n",
       "      <td>580</td>\n",
       "      <td>Apr 13, 2020</td>\n",
       "    </tr>\n",
       "    <tr>\n",
       "      <th>3</th>\n",
       "      <td>3</td>\n",
       "      <td>Together we can slow the spread</td>\n",
       "      <td>Mar 22, 2020</td>\n",
       "      <td>0</td>\n",
       "      <td>597</td>\n",
       "      <td>Mar 22, 2020</td>\n",
       "    </tr>\n",
       "    <tr>\n",
       "      <th>4</th>\n",
       "      <td>4</td>\n",
       "      <td>Useful Authoritative Information Sources on th...</td>\n",
       "      <td>Mar 22, 2020</td>\n",
       "      <td>0</td>\n",
       "      <td>560</td>\n",
       "      <td>Mar 22, 2020</td>\n",
       "    </tr>\n",
       "    <tr>\n",
       "      <th>...</th>\n",
       "      <td>...</td>\n",
       "      <td>...</td>\n",
       "      <td>...</td>\n",
       "      <td>...</td>\n",
       "      <td>...</td>\n",
       "      <td>...</td>\n",
       "    </tr>\n",
       "    <tr>\n",
       "      <th>816</th>\n",
       "      <td>816</td>\n",
       "      <td>Worried about coronavirus!</td>\n",
       "      <td>Mar 7, 2020 2 3 4</td>\n",
       "      <td>48</td>\n",
       "      <td>3K</td>\n",
       "      <td>Mar 19, 2020</td>\n",
       "    </tr>\n",
       "    <tr>\n",
       "      <th>817</th>\n",
       "      <td>817</td>\n",
       "      <td>Therapist had to cancel appointments and i fee...</td>\n",
       "      <td>Mar 17, 2020</td>\n",
       "      <td>14</td>\n",
       "      <td>423</td>\n",
       "      <td>Mar 18, 2020</td>\n",
       "    </tr>\n",
       "    <tr>\n",
       "      <th>818</th>\n",
       "      <td>818</td>\n",
       "      <td>I used to be calm, now Coronavirus scares me a...</td>\n",
       "      <td>Mar 16, 2020</td>\n",
       "      <td>10</td>\n",
       "      <td>421</td>\n",
       "      <td>Mar 18, 2020</td>\n",
       "    </tr>\n",
       "    <tr>\n",
       "      <th>819</th>\n",
       "      <td>819</td>\n",
       "      <td>Isolation</td>\n",
       "      <td>Mar 11, 2020</td>\n",
       "      <td>3</td>\n",
       "      <td>332</td>\n",
       "      <td>Mar 17, 2020</td>\n",
       "    </tr>\n",
       "    <tr>\n",
       "      <th>820</th>\n",
       "      <td>820</td>\n",
       "      <td>Coronavirus health anxiety</td>\n",
       "      <td>Mar 12, 2020</td>\n",
       "      <td>5</td>\n",
       "      <td>759</td>\n",
       "      <td>Mar 12, 2020</td>\n",
       "    </tr>\n",
       "  </tbody>\n",
       "</table>\n",
       "<p>821 rows × 6 columns</p>\n",
       "</div>"
      ],
      "text/plain": [
       "     Unnamed: 0                                           question  \\\n",
       "0             0         Myths about covid 19 and how vaccines work   \n",
       "1             1  Coping with your Mental Health during the Covi...   \n",
       "2             2       Useful numbers for domestic violence /abuse.   \n",
       "3             3                    Together we can slow the spread   \n",
       "4             4  Useful Authoritative Information Sources on th...   \n",
       "..          ...                                                ...   \n",
       "816         816                         Worried about coronavirus!   \n",
       "817         817  Therapist had to cancel appointments and i fee...   \n",
       "818         818  I used to be calm, now Coronavirus scares me a...   \n",
       "819         819                                          Isolation   \n",
       "820         820                         Coronavirus health anxiety   \n",
       "\n",
       "              que_date replies views      ans_date  \n",
       "0         Jul 14, 2021       0   625  Jul 14, 2021  \n",
       "1        Apr 9, 2020 2      16    2K  May 16, 2020  \n",
       "2         Apr 13, 2020       0   580  Apr 13, 2020  \n",
       "3         Mar 22, 2020       0   597  Mar 22, 2020  \n",
       "4         Mar 22, 2020       0   560  Mar 22, 2020  \n",
       "..                 ...     ...   ...           ...  \n",
       "816  Mar 7, 2020 2 3 4      48    3K  Mar 19, 2020  \n",
       "817       Mar 17, 2020      14   423  Mar 18, 2020  \n",
       "818       Mar 16, 2020      10   421  Mar 18, 2020  \n",
       "819       Mar 11, 2020       3   332  Mar 17, 2020  \n",
       "820       Mar 12, 2020       5   759  Mar 12, 2020  \n",
       "\n",
       "[821 rows x 6 columns]"
      ]
     },
     "execution_count": 10,
     "metadata": {},
     "output_type": "execute_result"
    }
   ],
   "source": [
    "pd.read_csv('scrap_coronavirus.csv')"
   ]
  },
  {
   "cell_type": "code",
   "execution_count": null,
   "id": "ec93126a",
   "metadata": {},
   "outputs": [],
   "source": []
  }
 ],
 "metadata": {
  "kernelspec": {
   "display_name": "Python 3",
   "language": "python",
   "name": "python3"
  },
  "language_info": {
   "codemirror_mode": {
    "name": "ipython",
    "version": 3
   },
   "file_extension": ".py",
   "mimetype": "text/x-python",
   "name": "python",
   "nbconvert_exporter": "python",
   "pygments_lexer": "ipython3",
   "version": "3.8.8"
  }
 },
 "nbformat": 4,
 "nbformat_minor": 5
}
